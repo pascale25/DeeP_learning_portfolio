{
  "nbformat": 4,
  "nbformat_minor": 0,
  "metadata": {
    "colab": {
      "provenance": [],
      "authorship_tag": "ABX9TyO+UygLHrs5JZoJulACy4BA",
      "include_colab_link": true
    },
    "kernelspec": {
      "name": "python3",
      "display_name": "Python 3"
    },
    "language_info": {
      "name": "python"
    }
  },
  "cells": [
    {
      "cell_type": "markdown",
      "metadata": {
        "id": "view-in-github",
        "colab_type": "text"
      },
      "source": [
        "<a href=\"https://colab.research.google.com/github/pascale25/DeeP_learning_portfolio/blob/master/linear_reg_pytorch.ipynb\" target=\"_parent\"><img src=\"https://colab.research.google.com/assets/colab-badge.svg\" alt=\"Open In Colab\"/></a>"
      ]
    },
    {
      "cell_type": "code",
      "execution_count": 32,
      "metadata": {
        "id": "ZZzIP55FYpbO"
      },
      "outputs": [],
      "source": [
        "import torch \n",
        "import torch.nn as nn\n",
        "import numpy as np\n",
        "import matplotlib.pyplot as plt"
      ]
    },
    {
      "cell_type": "code",
      "source": [
        "n=20\n",
        "X = np.random.random(n)*10 -5 # random data on the x_axis in (-5, +5)\n",
        "Y = 0.5 * X - 1 + np.random.randn(n) # a line plus some noice, slop = 0.5, yintercep=-1\n",
        "plt.scatter(X,Y);"
      ],
      "metadata": {
        "colab": {
          "base_uri": "https://localhost:8080/",
          "height": 265
        },
        "id": "B29gctgXaWnY",
        "outputId": "30193d3c-06de-4dbe-f613-04d12760c000"
      },
      "execution_count": 33,
      "outputs": [
        {
          "output_type": "display_data",
          "data": {
            "text/plain": [
              "<Figure size 432x288 with 1 Axes>"
            ],
            "image/png": "[encoded data removed]"
          },
          "metadata": {
            "needs_background": "light"
          }
        }
      ]
    },
    {
      "cell_type": "code",
      "source": [
        "print(X), print(X.shape), print(Y), print(Y.shape)"
      ],
      "metadata": {
        "colab": {
          "base_uri": "https://localhost:8080/"
        },
        "id": "85D1_fDnc08k",
        "outputId": "47292b52-132f-4960-8d67-6468eeb8eee6"
      },
      "execution_count": 34,
      "outputs": [
        {
          "output_type": "stream",
          "name": "stdout",
          "text": [
            "[-3.00301891  1.67087334 -4.84776226  0.49826298  3.55439008 -1.36492852\n",
            "  1.0166737  -3.9450631   1.01065089  4.55968286 -3.45038696 -4.36483626\n",
            " -1.79542815 -0.98194801 -4.45105377  2.61359304 -0.02621333  0.91317004\n",
            "  4.74098593  3.1062245 ]\n",
            "(20,)\n",
            "[-1.88621201  0.5424366  -4.64721393 -1.54731083  0.10452448 -1.78411826\n",
            " -1.68331946 -3.83918528 -0.54221949 -0.16778162 -2.12964957 -2.39182811\n",
            " -2.33534101 -3.18205658 -3.97155115  1.37835736 -1.25330613 -0.81942883\n",
            "  0.10244959  0.43455325]\n",
            "(20,)\n"
          ]
        },
        {
          "output_type": "execute_result",
          "data": {
            "text/plain": [
              "(None, None, None, None)"
            ]
          },
          "metadata": {},
          "execution_count": 34
        }
      ]
    },
    {
      "cell_type": "code",
      "source": [
        "# creat the linear regression model\n",
        "model = nn.Linear(1,1)\n",
        "#loss and optimizer\n",
        "criterion = nn.MSELoss()\n",
        "optimizer = torch.optim.SGD(model.parameters(), lr=0.1)"
      ],
      "metadata": {
        "id": "bjn1aDpPaWsB"
      },
      "execution_count": 35,
      "outputs": []
    },
    {
      "cell_type": "code",
      "source": [
        "# reshape the data ----- (num samples x num_dimensions)\n",
        "X = X.reshape(n,1)\n",
        "Y = Y.reshape(n, 1)\n",
        "print(X[0:2])"
      ],
      "metadata": {
        "colab": {
          "base_uri": "https://localhost:8080/"
        },
        "id": "U7ZR4FryaWwS",
        "outputId": "90a595ab-e5be-4066-9060-f1e170a1c126"
      },
      "execution_count": 36,
      "outputs": [
        {
          "output_type": "stream",
          "name": "stdout",
          "text": [
            "[[-3.00301891]\n",
            " [ 1.67087334]]\n"
          ]
        }
      ]
    },
    {
      "cell_type": "code",
      "source": [
        "# pytorch uses float 32 by default, nympy creat float64 by default\n",
        "inputs = torch.from_numpy(X.astype(np.float32))\n",
        "targets = torch.from_numpy(y.astype(np.float32))"
      ],
      "metadata": {
        "id": "P7uThg5MaW2Z"
      },
      "execution_count": 37,
      "outputs": []
    },
    {
      "cell_type": "code",
      "source": [
        "type(inputs)"
      ],
      "metadata": {
        "colab": {
          "base_uri": "https://localhost:8080/"
        },
        "id": "PHvnundBaW6l",
        "outputId": "efb44f0a-1708-482b-ab7d-c4c737dc384c"
      },
      "execution_count": 38,
      "outputs": [
        {
          "output_type": "execute_result",
          "data": {
            "text/plain": [
              "torch.Tensor"
            ]
          },
          "metadata": {},
          "execution_count": 38
        }
      ]
    },
    {
      "cell_type": "code",
      "source": [
        "# train the model\n",
        "epochs = 30\n",
        "losses = []\n",
        "for it in range (epochs):\n",
        "  #zero the parameter gradients\n",
        "  optimizer.zero_grad()\n",
        "  # forward pass\n",
        "  outputs = model(inputs)\n",
        "  loss = criterion(outputs, targets)\n",
        "  # keep the loss, so we can plot it later\n",
        "  losses.append(loss.item())\n",
        "  # backward and optimizer\n",
        "  loss.backward()\n",
        "  optimizer.step()\n",
        "\n",
        "  print(f\"Epoch {it+1}/{epochs}, Loss: {loss.item():4f}\")\n",
        "\n"
      ],
      "metadata": {
        "colab": {
          "base_uri": "https://localhost:8080/"
        },
        "id": "67omc5xaaW-L",
        "outputId": "2f0bec31-40d6-4c90-d95f-d6780674af7f"
      },
      "execution_count": 39,
      "outputs": [
        {
          "output_type": "stream",
          "name": "stdout",
          "text": [
            "Epoch 1/30, Loss: 2.360268\n",
            "Epoch 2/30, Loss: 2.134681\n",
            "Epoch 3/30, Loss: 1.979552\n",
            "Epoch 4/30, Loss: 1.872805\n",
            "Epoch 5/30, Loss: 1.799303\n",
            "Epoch 6/30, Loss: 1.748664\n",
            "Epoch 7/30, Loss: 1.713757\n",
            "Epoch 8/30, Loss: 1.689681\n",
            "Epoch 9/30, Loss: 1.673068\n",
            "Epoch 10/30, Loss: 1.661599\n",
            "Epoch 11/30, Loss: 1.653679\n",
            "Epoch 12/30, Loss: 1.648206\n",
            "Epoch 13/30, Loss: 1.644424\n",
            "Epoch 14/30, Loss: 1.641809\n",
            "Epoch 15/30, Loss: 1.640000\n",
            "Epoch 16/30, Loss: 1.638749\n",
            "Epoch 17/30, Loss: 1.637883\n",
            "Epoch 18/30, Loss: 1.637283\n",
            "Epoch 19/30, Loss: 1.636868\n",
            "Epoch 20/30, Loss: 1.636581\n",
            "Epoch 21/30, Loss: 1.636382\n",
            "Epoch 22/30, Loss: 1.636244\n",
            "Epoch 23/30, Loss: 1.636148\n",
            "Epoch 24/30, Loss: 1.636082\n",
            "Epoch 25/30, Loss: 1.636036\n",
            "Epoch 26/30, Loss: 1.636004\n",
            "Epoch 27/30, Loss: 1.635982\n",
            "Epoch 28/30, Loss: 1.635967\n",
            "Epoch 29/30, Loss: 1.635956\n",
            "Epoch 30/30, Loss: 1.635949\n"
          ]
        },
        {
          "output_type": "stream",
          "name": "stderr",
          "text": [
            "/usr/local/lib/python3.7/dist-packages/torch/nn/modules/loss.py:530: UserWarning: Using a target size (torch.Size([20])) that is different to the input size (torch.Size([20, 1])). This will likely lead to incorrect results due to broadcasting. Please ensure they have the same size.\n",
            "  return F.mse_loss(input, target, reduction=self.reduction)\n"
          ]
        }
      ]
    },
    {
      "cell_type": "code",
      "source": [
        "plt.plot(losses);"
      ],
      "metadata": {
        "colab": {
          "base_uri": "https://localhost:8080/",
          "height": 265
        },
        "id": "FmCDqoH8aXCV",
        "outputId": "1681a179-641a-4843-c8b0-fbb19b6fedd5"
      },
      "execution_count": 40,
      "outputs": [
        {
          "output_type": "display_data",
          "data": {
            "text/plain": [
              "<Figure size 432x288 with 1 Axes>"
            ],
            "image/png": "[encoded data removed]"
          },
          "metadata": {
            "needs_background": "light"
          }
        }
      ]
    },
    {
      "cell_type": "code",
      "source": [],
      "metadata": {
        "id": "wNJkT0vEiB3u"
      },
      "execution_count": 40,
      "outputs": []
    },
    {
      "cell_type": "code",
      "source": [
        "from torch.nn.modules import PairwiseDistance\n",
        "# plot the graph\n",
        "predicted = model(inputs).detach().numpy()\n",
        "plt.scatter(X,Y, label ='Original data')\n",
        "plt.plot(X, predicted, label = \"fitted line\")\n",
        "plt.legend()\n",
        "plt.show()"
      ],
      "metadata": {
        "colab": {
          "base_uri": "https://localhost:8080/",
          "height": 265
        },
        "id": "LgBPDbt1aXF6",
        "outputId": "d036f0f9-4b4f-47fd-e41a-a7fef56267a3"
      },
      "execution_count": 46,
      "outputs": [
        {
          "output_type": "display_data",
          "data": {
            "text/plain": [
              "<Figure size 432x288 with 1 Axes>"
            ],
            "image/png": "[encoded data removed]"
          },
          "metadata": {
            "needs_background": "light"
          }
        }
      ]
    },
    {
      "cell_type": "code",
      "source": [
        "model(inputs)"
      ],
      "metadata": {
        "colab": {
          "base_uri": "https://localhost:8080/"
        },
        "id": "nQtuoiVRgtez",
        "outputId": "19494c95-6ec4-40f4-dafb-edfacaba1bf3"
      },
      "execution_count": 42,
      "outputs": [
        {
          "output_type": "execute_result",
          "data": {
            "text/plain": [
              "tensor([[-1.2432],\n",
              "        [-1.2379],\n",
              "        [-1.2453],\n",
              "        [-1.2392],\n",
              "        [-1.2358],\n",
              "        [-1.2413],\n",
              "        [-1.2386],\n",
              "        [-1.2442],\n",
              "        [-1.2386],\n",
              "        [-1.2346],\n",
              "        [-1.2437],\n",
              "        [-1.2447],\n",
              "        [-1.2418],\n",
              "        [-1.2409],\n",
              "        [-1.2448],\n",
              "        [-1.2368],\n",
              "        [-1.2398],\n",
              "        [-1.2388],\n",
              "        [-1.2344],\n",
              "        [-1.2363]], grad_fn=<AddmmBackward0>)"
            ]
          },
          "metadata": {},
          "execution_count": 42
        }
      ]
    },
    {
      "cell_type": "code",
      "source": [
        "model(inputs).detach().numpy()"
      ],
      "metadata": {
        "colab": {
          "base_uri": "https://localhost:8080/"
        },
        "id": "hgL4q7KFgtjq",
        "outputId": "cd10191e-46e4-4ffa-af8a-55c44a8a1c3d"
      },
      "execution_count": 43,
      "outputs": [
        {
          "output_type": "execute_result",
          "data": {
            "text/plain": [
              "array([[-1.2431728],\n",
              "       [-1.2379051],\n",
              "       [-1.2452518],\n",
              "       [-1.2392267],\n",
              "       [-1.2357825],\n",
              "       [-1.2413266],\n",
              "       [-1.2386425],\n",
              "       [-1.2442344],\n",
              "       [-1.2386492],\n",
              "       [-1.2346494],\n",
              "       [-1.2436769],\n",
              "       [-1.2447075],\n",
              "       [-1.2418118],\n",
              "       [-1.2408949],\n",
              "       [-1.2448047],\n",
              "       [-1.2368428],\n",
              "       [-1.2398179],\n",
              "       [-1.2387592],\n",
              "       [-1.2344451],\n",
              "       [-1.2362876]], dtype=float32)"
            ]
          },
          "metadata": {},
          "execution_count": 43
        }
      ]
    },
    {
      "cell_type": "code",
      "source": [
        "# another way to make prediction\n",
        "with torch.no_grad():\n",
        "  out = model(inputs).numpy()\n",
        "out"
      ],
      "metadata": {
        "colab": {
          "base_uri": "https://localhost:8080/"
        },
        "id": "2qPmQBIcgtoG",
        "outputId": "b657879a-64b2-4552-f6d2-e22d76c14b21"
      },
      "execution_count": 44,
      "outputs": [
        {
          "output_type": "execute_result",
          "data": {
            "text/plain": [
              "array([[-1.2431728],\n",
              "       [-1.2379051],\n",
              "       [-1.2452518],\n",
              "       [-1.2392267],\n",
              "       [-1.2357825],\n",
              "       [-1.2413266],\n",
              "       [-1.2386425],\n",
              "       [-1.2442344],\n",
              "       [-1.2386492],\n",
              "       [-1.2346494],\n",
              "       [-1.2436769],\n",
              "       [-1.2447075],\n",
              "       [-1.2418118],\n",
              "       [-1.2408949],\n",
              "       [-1.2448047],\n",
              "       [-1.2368428],\n",
              "       [-1.2398179],\n",
              "       [-1.2387592],\n",
              "       [-1.2344451],\n",
              "       [-1.2362876]], dtype=float32)"
            ]
          },
          "metadata": {},
          "execution_count": 44
        }
      ]
    },
    {
      "cell_type": "code",
      "source": [
        "# inspect model parameters , are there close to true value\n",
        "# true values are  w = 0.5, b = -1\n",
        "w = model.weight.data.numpy()\n",
        "b=model.bias.data.numpy()\n",
        "print(w,b)"
      ],
      "metadata": {
        "colab": {
          "base_uri": "https://localhost:8080/"
        },
        "id": "oa2ymYSaif_D",
        "outputId": "249a8ccb-a0bf-4886-b185-df4b9fe03bc8"
      },
      "execution_count": 45,
      "outputs": [
        {
          "output_type": "stream",
          "name": "stdout",
          "text": [
            "[[0.00112701]] [-1.2397883]\n"
          ]
        }
      ]
    },
    {
      "cell_type": "code",
      "source": [],
      "metadata": {
        "id": "8rBBnIFGigEX"
      },
      "execution_count": 45,
      "outputs": []
    }
  ]
}