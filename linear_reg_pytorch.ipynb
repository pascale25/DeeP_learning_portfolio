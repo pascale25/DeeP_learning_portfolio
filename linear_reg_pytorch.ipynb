{
  "nbformat": 4,
  "nbformat_minor": 0,
  "metadata": {
    "colab": {
      "provenance": [],
      "authorship_tag": "ABX9TyNKt8vaYQ0K+0Ut/9ZqLECj",
      "include_colab_link": true
    },
    "kernelspec": {
      "name": "python3",
      "display_name": "Python 3"
    },
    "language_info": {
      "name": "python"
    }
  },
  "cells": [
    {
      "cell_type": "markdown",
      "metadata": {
        "id": "view-in-github",
        "colab_type": "text"
      },
      "source": [
        "<a href=\"https://colab.research.google.com/github/pascale25/DeeP_learning_portfolio/blob/master/linear_reg_pytorch.ipynb\" target=\"_parent\"><img src=\"https://colab.research.google.com/assets/colab-badge.svg\" alt=\"Open In Colab\"/></a>"
      ]
    },
    {
      "cell_type": "code",
      "execution_count": 1,
      "metadata": {
        "id": "ZZzIP55FYpbO"
      },
      "outputs": [],
      "source": [
        "import torch \n",
        "import torch.nn as nn\n",
        "import numpy as np\n",
        "import pandas as pd\n",
        "import matplotlib.pyplot as plt"
      ]
    },
    {
      "cell_type": "code",
      "source": [
        "n=20\n",
        "X = np.random.random(n)*10 -5 # random data on the x_axis in (-5, +5)\n",
        "Y = 0.5 * X - 1 + np.random.randn(n) # a line plus some noice, slop = 0.5, yintercep=-1\n",
        "plt.scatter(X,Y);"
      ],
      "metadata": {
        "colab": {
          "base_uri": "https://localhost:8080/",
          "height": 265
        },
        "id": "B29gctgXaWnY",
        "outputId": "faede750-6fac-4bf4-fbbb-6b6c06c20d38"
      },
      "execution_count": 2,
      "outputs": [
        {
          "output_type": "display_data",
          "data": {
            "text/plain": [
              "<Figure size 432x288 with 1 Axes>"
            ],
            "image/png": "[encoded data removed]"
          },
          "metadata": {
            "needs_background": "light"
          }
        }
      ]
    },
    {
      "cell_type": "code",
      "source": [
        "print(X), print(X.shape), print(Y), print(Y.shape)"
      ],
      "metadata": {
        "colab": {
          "base_uri": "https://localhost:8080/"
        },
        "id": "85D1_fDnc08k",
        "outputId": "56ffb2f2-3d82-4aee-843b-6a25d687dfb0"
      },
      "execution_count": 3,
      "outputs": [
        {
          "output_type": "stream",
          "name": "stdout",
          "text": [
            "[-0.45378337  2.34550268 -4.14201097 -2.12476378 -3.46519691  0.58832749\n",
            "  2.80427482 -0.24721226  4.21325618 -1.07634486  3.13512843 -3.52958463\n",
            " -4.108853    4.43312899 -3.2781859   2.54879471  1.85573923 -3.88425518\n",
            " -3.18618141  3.87783088]\n",
            "(20,)\n",
            "[-0.08466651  0.06250924 -2.67898837 -3.47242967 -0.75984336 -2.13223426\n",
            " -0.04982432 -1.72209482  1.28584973 -0.76144286 -1.21376155 -3.54857804\n",
            " -0.37474974 -0.42016358 -2.48238586  0.42026688 -0.16412325 -1.30927851\n",
            " -2.02107066  0.66479084]\n",
            "(20,)\n"
          ]
        },
        {
          "output_type": "execute_result",
          "data": {
            "text/plain": [
              "(None, None, None, None)"
            ]
          },
          "metadata": {},
          "execution_count": 3
        }
      ]
    },
    {
      "cell_type": "code",
      "source": [
        "# creat the linear regression model\n",
        "model = nn.Linear(1,1)\n",
        "#loss and optimizer\n",
        "criterion = nn.MSELoss()\n",
        "optimizer = torch.optim.SGD(model.parameters(), lr=0.1)"
      ],
      "metadata": {
        "id": "bjn1aDpPaWsB"
      },
      "execution_count": 4,
      "outputs": []
    },
    {
      "cell_type": "code",
      "source": [
        "# reshape the data ----- (num samples x num_dimensions)\n",
        "X = X.reshape(n,1)\n",
        "Y = Y.reshape(n, 1)\n",
        "print(X[0:2])"
      ],
      "metadata": {
        "colab": {
          "base_uri": "https://localhost:8080/"
        },
        "id": "U7ZR4FryaWwS",
        "outputId": "b5bbfe85-43a8-4b43-fc9e-f98603c497d7"
      },
      "execution_count": 5,
      "outputs": [
        {
          "output_type": "stream",
          "name": "stdout",
          "text": [
            "[[-0.45378337]\n",
            " [ 2.34550268]]\n"
          ]
        }
      ]
    },
    {
      "cell_type": "code",
      "source": [
        "# pytorch uses float 32 by default, nympy creat float64 by default\n",
        "inputs = torch.from_numpy(X.astype(np.float32))\n",
        "targets = torch.from_numpy(Y.astype(np.float32))"
      ],
      "metadata": {
        "id": "P7uThg5MaW2Z"
      },
      "execution_count": 6,
      "outputs": []
    },
    {
      "cell_type": "code",
      "source": [
        "type(inputs)"
      ],
      "metadata": {
        "colab": {
          "base_uri": "https://localhost:8080/"
        },
        "id": "PHvnundBaW6l",
        "outputId": "d8cbe9a4-6eb2-4cf2-bf5e-9824c00e04ee"
      },
      "execution_count": 7,
      "outputs": [
        {
          "output_type": "execute_result",
          "data": {
            "text/plain": [
              "torch.Tensor"
            ]
          },
          "metadata": {},
          "execution_count": 7
        }
      ]
    },
    {
      "cell_type": "code",
      "source": [
        "# train the model\n",
        "epochs = 30\n",
        "losses = []\n",
        "for it in range (epochs):\n",
        "  #zero the parameter gradients\n",
        "  optimizer.zero_grad()\n",
        "  # forward pass\n",
        "  outputs = model(inputs)\n",
        "  loss = criterion(outputs, targets)\n",
        "  # keep the loss, so we can plot it later\n",
        "  losses.append(loss.item())\n",
        "  # backward and optimizer\n",
        "  loss.backward()\n",
        "  optimizer.step()\n",
        "\n",
        "  print(f\"Epoch {it+1}/{epochs}, Loss: {loss.item():4f}\")\n",
        "\n"
      ],
      "metadata": {
        "colab": {
          "base_uri": "https://localhost:8080/"
        },
        "id": "67omc5xaaW-L",
        "outputId": "819f19a6-25c8-42e1-e5ea-ab0cf57bc0d7"
      },
      "execution_count": 8,
      "outputs": [
        {
          "output_type": "stream",
          "name": "stdout",
          "text": [
            "Epoch 1/30, Loss: 7.290051\n",
            "Epoch 2/30, Loss: 5.409800\n",
            "Epoch 3/30, Loss: 4.105390\n",
            "Epoch 4/30, Loss: 3.195204\n",
            "Epoch 5/30, Loss: 2.556467\n",
            "Epoch 6/30, Loss: 2.105729\n",
            "Epoch 7/30, Loss: 1.785953\n",
            "Epoch 8/30, Loss: 1.557932\n",
            "Epoch 9/30, Loss: 1.394558\n",
            "Epoch 10/30, Loss: 1.276977\n",
            "Epoch 11/30, Loss: 1.192004\n",
            "Epoch 12/30, Loss: 1.130361\n",
            "Epoch 13/30, Loss: 1.085489\n",
            "Epoch 14/30, Loss: 1.052722\n",
            "Epoch 15/30, Loss: 1.028727\n",
            "Epoch 16/30, Loss: 1.011112\n",
            "Epoch 17/30, Loss: 0.998152\n",
            "Epoch 18/30, Loss: 0.988597\n",
            "Epoch 19/30, Loss: 0.981541\n",
            "Epoch 20/30, Loss: 0.976322\n",
            "Epoch 21/30, Loss: 0.972457\n",
            "Epoch 22/30, Loss: 0.969591\n",
            "Epoch 23/30, Loss: 0.967464\n",
            "Epoch 24/30, Loss: 0.965884\n",
            "Epoch 25/30, Loss: 0.964709\n",
            "Epoch 26/30, Loss: 0.963835\n",
            "Epoch 27/30, Loss: 0.963184\n",
            "Epoch 28/30, Loss: 0.962699\n",
            "Epoch 29/30, Loss: 0.962338\n",
            "Epoch 30/30, Loss: 0.962069\n"
          ]
        }
      ]
    },
    {
      "cell_type": "code",
      "source": [
        "plt.plot(losses);"
      ],
      "metadata": {
        "colab": {
          "base_uri": "https://localhost:8080/",
          "height": 265
        },
        "id": "FmCDqoH8aXCV",
        "outputId": "d67303d0-5847-4d26-93dd-ad3e9308af40"
      },
      "execution_count": 9,
      "outputs": [
        {
          "output_type": "display_data",
          "data": {
            "text/plain": [
              "<Figure size 432x288 with 1 Axes>"
            ],
            "image/png": "[encoded data removed]"
          },
          "metadata": {
            "needs_background": "light"
          }
        }
      ]
    },
    {
      "cell_type": "code",
      "source": [],
      "metadata": {
        "id": "wNJkT0vEiB3u"
      },
      "execution_count": 9,
      "outputs": []
    },
    {
      "cell_type": "code",
      "source": [
        "from torch.nn.modules import PairwiseDistance\n",
        "# plot the graph\n",
        "predicted = model(inputs).detach().numpy()\n",
        "plt.scatter(X,Y, label ='Original data')\n",
        "plt.plot(X, predicted, label = \"fitted line\")\n",
        "plt.legend()\n",
        "plt.show()"
      ],
      "metadata": {
        "colab": {
          "base_uri": "https://localhost:8080/",
          "height": 265
        },
        "id": "LgBPDbt1aXF6",
        "outputId": "3be7c55a-a01a-407c-9121-f16e4867c86b"
      },
      "execution_count": 10,
      "outputs": [
        {
          "output_type": "display_data",
          "data": {
            "text/plain": [
              "<Figure size 432x288 with 1 Axes>"
            ],
            "image/png": "[encoded data removed]"
          },
          "metadata": {
            "needs_background": "light"
          }
        }
      ]
    },
    {
      "cell_type": "code",
      "source": [
        "model(inputs)"
      ],
      "metadata": {
        "colab": {
          "base_uri": "https://localhost:8080/"
        },
        "id": "nQtuoiVRgtez",
        "outputId": "fe8df3b5-9393-4435-9ef9-14ccca7070a4"
      },
      "execution_count": 11,
      "outputs": [
        {
          "output_type": "execute_result",
          "data": {
            "text/plain": [
              "tensor([[-1.1183],\n",
              "        [-0.2799],\n",
              "        [-2.2229],\n",
              "        [-1.6187],\n",
              "        [-2.0202],\n",
              "        [-0.8061],\n",
              "        [-0.1424],\n",
              "        [-1.0564],\n",
              "        [ 0.2796],\n",
              "        [-1.3047],\n",
              "        [-0.0433],\n",
              "        [-2.0395],\n",
              "        [-2.2130],\n",
              "        [ 0.3454],\n",
              "        [-1.9642],\n",
              "        [-0.2190],\n",
              "        [-0.4265],\n",
              "        [-2.1457],\n",
              "        [-1.9367],\n",
              "        [ 0.1791]], grad_fn=<AddmmBackward0>)"
            ]
          },
          "metadata": {},
          "execution_count": 11
        }
      ]
    },
    {
      "cell_type": "code",
      "source": [
        "model(inputs).detach().numpy()"
      ],
      "metadata": {
        "colab": {
          "base_uri": "https://localhost:8080/"
        },
        "id": "hgL4q7KFgtjq",
        "outputId": "a234b691-c652-4fe5-8acf-a2fa4b0f5750"
      },
      "execution_count": 12,
      "outputs": [
        {
          "output_type": "execute_result",
          "data": {
            "text/plain": [
              "array([[-1.1182674 ],\n",
              "       [-0.27985013],\n",
              "       [-2.2229328 ],\n",
              "       [-1.6187446 ],\n",
              "       [-2.0202193 ],\n",
              "       [-0.80614364],\n",
              "       [-0.14244276],\n",
              "       [-1.0563971 ],\n",
              "       [ 0.27956295],\n",
              "       [-1.3047316 ],\n",
              "       [-0.04334837],\n",
              "       [-2.039504  ],\n",
              "       [-2.2130015 ],\n",
              "       [ 0.34541714],\n",
              "       [-1.9642074 ],\n",
              "       [-0.2189619 ],\n",
              "       [-0.42653972],\n",
              "       [-2.145732  ],\n",
              "       [-1.936651  ],\n",
              "       [ 0.17909932]], dtype=float32)"
            ]
          },
          "metadata": {},
          "execution_count": 12
        }
      ]
    },
    {
      "cell_type": "code",
      "source": [
        "# another way to make prediction\n",
        "with torch.no_grad():\n",
        "  out = model(inputs).numpy()\n",
        "out"
      ],
      "metadata": {
        "colab": {
          "base_uri": "https://localhost:8080/"
        },
        "id": "2qPmQBIcgtoG",
        "outputId": "f2c75082-8c83-47d3-de05-19645b019fa2"
      },
      "execution_count": 13,
      "outputs": [
        {
          "output_type": "execute_result",
          "data": {
            "text/plain": [
              "array([[-1.1182674 ],\n",
              "       [-0.27985013],\n",
              "       [-2.2229328 ],\n",
              "       [-1.6187446 ],\n",
              "       [-2.0202193 ],\n",
              "       [-0.80614364],\n",
              "       [-0.14244276],\n",
              "       [-1.0563971 ],\n",
              "       [ 0.27956295],\n",
              "       [-1.3047316 ],\n",
              "       [-0.04334837],\n",
              "       [-2.039504  ],\n",
              "       [-2.2130015 ],\n",
              "       [ 0.34541714],\n",
              "       [-1.9642074 ],\n",
              "       [-0.2189619 ],\n",
              "       [-0.42653972],\n",
              "       [-2.145732  ],\n",
              "       [-1.936651  ],\n",
              "       [ 0.17909932]], dtype=float32)"
            ]
          },
          "metadata": {},
          "execution_count": 13
        }
      ]
    },
    {
      "cell_type": "code",
      "source": [
        "# inspect model parameters , are there close to true value\n",
        "# true values are  w = 0.5, b = -1\n",
        "w = model.weight.data.numpy()\n",
        "b=model.bias.data.numpy()\n",
        "print(w,b)"
      ],
      "metadata": {
        "colab": {
          "base_uri": "https://localhost:8080/"
        },
        "id": "oa2ymYSaif_D",
        "outputId": "ea5d8018-ced2-40f8-b038-def52b781002"
      },
      "execution_count": 14,
      "outputs": [
        {
          "output_type": "stream",
          "name": "stdout",
          "text": [
            "[[0.29951113]] [-0.9823543]\n"
          ]
        }
      ]
    },
    {
      "cell_type": "markdown",
      "source": [
        "# Regression "
      ],
      "metadata": {
        "id": "rCSJ37WTlMp8"
      }
    },
    {
      "cell_type": "code",
      "source": [
        "# get the data \n",
        "!wget -nc https://raw.githubusercontent.com/lazyprogrammer/machine_learning_examples/master/tf2.0/moore.csv"
      ],
      "metadata": {
        "colab": {
          "base_uri": "https://localhost:8080/"
        },
        "id": "8rBBnIFGigEX",
        "outputId": "b67db73d-c014-4647-ee6d-830b19fade17"
      },
      "execution_count": 15,
      "outputs": [
        {
          "output_type": "stream",
          "name": "stdout",
          "text": [
            "--2022-10-11 14:28:38--  https://raw.githubusercontent.com/lazyprogrammer/machine_learning_examples/master/tf2.0/moore.csv\n",
            "Resolving raw.githubusercontent.com (raw.githubusercontent.com)... 185.199.108.133, 185.199.109.133, 185.199.110.133, ...\n",
            "Connecting to raw.githubusercontent.com (raw.githubusercontent.com)|185.199.108.133|:443... connected.\n",
            "HTTP request sent, awaiting response... 200 OK\n",
            "Length: 2302 (2.2K) [text/plain]\n",
            "Saving to: ‘moore.csv’\n",
            "\n",
            "\rmoore.csv             0%[                    ]       0  --.-KB/s               \rmoore.csv           100%[===================>]   2.25K  --.-KB/s    in 0s      \n",
            "\n",
            "2022-10-11 14:28:38 (20.1 MB/s) - ‘moore.csv’ saved [2302/2302]\n",
            "\n"
          ]
        }
      ]
    },
    {
      "cell_type": "code",
      "source": [
        "# load in the data\n",
        "data = pd.read_csv(\"moore.csv\", header = None).values\n",
        "XX = data[:,0].reshape(-1, 1) # make it a 2D arrar o size N*D where D=1\n",
        "YY = data[:, 1].reshape(-1, 1) "
      ],
      "metadata": {
        "id": "b6ooAVYBmNF_"
      },
      "execution_count": 16,
      "outputs": []
    },
    {
      "cell_type": "code",
      "source": [
        "plt.scatter(XX, YY);"
      ],
      "metadata": {
        "colab": {
          "base_uri": "https://localhost:8080/",
          "height": 276
        },
        "id": "aTnvD6C8mNK-",
        "outputId": "d993a81a-252a-445a-9f49-c5d5aee25cf9"
      },
      "execution_count": 17,
      "outputs": [
        {
          "output_type": "display_data",
          "data": {
            "text/plain": [
              "<Figure size 432x288 with 1 Axes>"
            ],
            "image/png": "[encoded data removed]"
          },
          "metadata": {
            "needs_background": "light"
          }
        }
      ]
    },
    {
      "cell_type": "code",
      "source": [
        "YY = np.log(YY)\n",
        "plt.scatter(XX, YY);"
      ],
      "metadata": {
        "colab": {
          "base_uri": "https://localhost:8080/",
          "height": 265
        },
        "id": "LRUAaFlKmNS4",
        "outputId": "4493596a-6c53-4229-a1ba-078a7b3f8dd6"
      },
      "execution_count": 18,
      "outputs": [
        {
          "output_type": "display_data",
          "data": {
            "text/plain": [
              "<Figure size 432x288 with 1 Axes>"
            ],
            "image/png": "[encoded data removed]"
          },
          "metadata": {
            "needs_background": "light"
          }
        }
      ]
    },
    {
      "cell_type": "code",
      "source": [
        "# scale and ceter both the x and y\n",
        "mx = XX.mean()\n",
        "sx = XX.std()\n",
        "my = YY.mean()\n",
        "sy = YY.std()\n",
        "XX = (XX - mx)/sx\n",
        "YY = (YY - my)/sy\n",
        "# evrything is centered in a small range\n",
        "plt.scatter(XX,YY)"
      ],
      "metadata": {
        "colab": {
          "base_uri": "https://localhost:8080/",
          "height": 282
        },
        "id": "uhl1asT5mNZY",
        "outputId": "640dfef3-c6ec-4533-c7b7-e7771a28ef9d"
      },
      "execution_count": 19,
      "outputs": [
        {
          "output_type": "execute_result",
          "data": {
            "text/plain": [
              "<matplotlib.collections.PathCollection at 0x7f271411a550>"
            ]
          },
          "metadata": {},
          "execution_count": 19
        },
        {
          "output_type": "display_data",
          "data": {
            "text/plain": [
              "<Figure size 432x288 with 1 Axes>"
            ],
            "image/png": "[encoded data removed]"
          },
          "metadata": {
            "needs_background": "light"
          }
        }
      ]
    },
    {
      "cell_type": "code",
      "source": [
        "# convert to float32\n",
        "x = XX.astype(np.float32)\n",
        "y = YY.astype(np.float32)\n",
        "# creat de linear regression model\n",
        "model = nn.Linear(1,1)\n",
        "criterion = nn.MSELoss()\n",
        "optimizer = torch.optim.SGD(model.parameters(), lr = 0.01, momentum= 0.7)\n",
        "# inputs and targets\n",
        "inputs = torch.from_numpy(x)\n",
        "targets = torch.from_numpy(y)\n",
        "type(inputs)"
      ],
      "metadata": {
        "colab": {
          "base_uri": "https://localhost:8080/"
        },
        "id": "mVzqqAdmofyz",
        "outputId": "200b4118-ff54-455f-fb2c-3b4611207d66"
      },
      "execution_count": 20,
      "outputs": [
        {
          "output_type": "execute_result",
          "data": {
            "text/plain": [
              "torch.Tensor"
            ]
          },
          "metadata": {},
          "execution_count": 20
        }
      ]
    },
    {
      "cell_type": "code",
      "source": [
        "# train the model\n",
        "epochs = 100\n",
        "losses = []\n",
        "for it in range (epochs):\n",
        "  #zero the parameter gradients\n",
        "  optimizer.zero_grad()\n",
        "  # forward pass\n",
        "  outputs = model(inputs)\n",
        "  loss = criterion(outputs, targets)\n",
        "  # keep the loss, so we can plot it later\n",
        "  losses.append(loss.item())\n",
        "  # backward and optimizer\n",
        "  loss.backward()\n",
        "  optimizer.step()\n",
        "\n",
        "  print(f\"Epoch {it+1}/{epochs}, Loss: {loss.item():4f}\")"
      ],
      "metadata": {
        "colab": {
          "base_uri": "https://localhost:8080/"
        },
        "id": "TqKmleNwpG-t",
        "outputId": "a539dfc7-e89c-4dc7-c482-f65cc7ccbc08"
      },
      "execution_count": 21,
      "outputs": [
        {
          "output_type": "stream",
          "name": "stdout",
          "text": [
            "Epoch 1/100, Loss: 1.499337\n",
            "Epoch 2/100, Loss: 1.441487\n",
            "Epoch 3/100, Loss: 1.346930\n",
            "Epoch 4/100, Loss: 1.232189\n",
            "Epoch 5/100, Loss: 1.109301\n",
            "Epoch 6/100, Loss: 0.986520\n",
            "Epoch 7/100, Loss: 0.869144\n",
            "Epoch 8/100, Loss: 0.760290\n",
            "Epoch 9/100, Loss: 0.661525\n",
            "Epoch 10/100, Loss: 0.573371\n",
            "Epoch 11/100, Loss: 0.495667\n",
            "Epoch 12/100, Loss: 0.427842\n",
            "Epoch 13/100, Loss: 0.369096\n",
            "Epoch 14/100, Loss: 0.318526\n",
            "Epoch 15/100, Loss: 0.275213\n",
            "Epoch 16/100, Loss: 0.238263\n",
            "Epoch 17/100, Loss: 0.206847\n",
            "Epoch 18/100, Loss: 0.180207\n",
            "Epoch 19/100, Loss: 0.157668\n",
            "Epoch 20/100, Loss: 0.138634\n",
            "Epoch 21/100, Loss: 0.122583\n",
            "Epoch 22/100, Loss: 0.109065\n",
            "Epoch 23/100, Loss: 0.097693\n",
            "Epoch 24/100, Loss: 0.088134\n",
            "Epoch 25/100, Loss: 0.080104\n",
            "Epoch 26/100, Loss: 0.073364\n",
            "Epoch 27/100, Loss: 0.067709\n",
            "Epoch 28/100, Loss: 0.062965\n",
            "Epoch 29/100, Loss: 0.058989\n",
            "Epoch 30/100, Loss: 0.055656\n",
            "Epoch 31/100, Loss: 0.052863\n",
            "Epoch 32/100, Loss: 0.050523\n",
            "Epoch 33/100, Loss: 0.048563\n",
            "Epoch 34/100, Loss: 0.046921\n",
            "Epoch 35/100, Loss: 0.045547\n",
            "Epoch 36/100, Loss: 0.044396\n",
            "Epoch 37/100, Loss: 0.043432\n",
            "Epoch 38/100, Loss: 0.042625\n",
            "Epoch 39/100, Loss: 0.041950\n",
            "Epoch 40/100, Loss: 0.041384\n",
            "Epoch 41/100, Loss: 0.040911\n",
            "Epoch 42/100, Loss: 0.040515\n",
            "Epoch 43/100, Loss: 0.040183\n",
            "Epoch 44/100, Loss: 0.039905\n",
            "Epoch 45/100, Loss: 0.039673\n",
            "Epoch 46/100, Loss: 0.039479\n",
            "Epoch 47/100, Loss: 0.039316\n",
            "Epoch 48/100, Loss: 0.039180\n",
            "Epoch 49/100, Loss: 0.039066\n",
            "Epoch 50/100, Loss: 0.038970\n",
            "Epoch 51/100, Loss: 0.038890\n",
            "Epoch 52/100, Loss: 0.038823\n",
            "Epoch 53/100, Loss: 0.038767\n",
            "Epoch 54/100, Loss: 0.038721\n",
            "Epoch 55/100, Loss: 0.038681\n",
            "Epoch 56/100, Loss: 0.038649\n",
            "Epoch 57/100, Loss: 0.038621\n",
            "Epoch 58/100, Loss: 0.038598\n",
            "Epoch 59/100, Loss: 0.038579\n",
            "Epoch 60/100, Loss: 0.038563\n",
            "Epoch 61/100, Loss: 0.038549\n",
            "Epoch 62/100, Loss: 0.038538\n",
            "Epoch 63/100, Loss: 0.038529\n",
            "Epoch 64/100, Loss: 0.038521\n",
            "Epoch 65/100, Loss: 0.038514\n",
            "Epoch 66/100, Loss: 0.038509\n",
            "Epoch 67/100, Loss: 0.038504\n",
            "Epoch 68/100, Loss: 0.038500\n",
            "Epoch 69/100, Loss: 0.038497\n",
            "Epoch 70/100, Loss: 0.038494\n",
            "Epoch 71/100, Loss: 0.038492\n",
            "Epoch 72/100, Loss: 0.038490\n",
            "Epoch 73/100, Loss: 0.038488\n",
            "Epoch 74/100, Loss: 0.038487\n",
            "Epoch 75/100, Loss: 0.038486\n",
            "Epoch 76/100, Loss: 0.038485\n",
            "Epoch 77/100, Loss: 0.038484\n",
            "Epoch 78/100, Loss: 0.038484\n",
            "Epoch 79/100, Loss: 0.038483\n",
            "Epoch 80/100, Loss: 0.038483\n",
            "Epoch 81/100, Loss: 0.038482\n",
            "Epoch 82/100, Loss: 0.038482\n",
            "Epoch 83/100, Loss: 0.038482\n",
            "Epoch 84/100, Loss: 0.038481\n",
            "Epoch 85/100, Loss: 0.038481\n",
            "Epoch 86/100, Loss: 0.038481\n",
            "Epoch 87/100, Loss: 0.038481\n",
            "Epoch 88/100, Loss: 0.038481\n",
            "Epoch 89/100, Loss: 0.038481\n",
            "Epoch 90/100, Loss: 0.038481\n",
            "Epoch 91/100, Loss: 0.038481\n",
            "Epoch 92/100, Loss: 0.038481\n",
            "Epoch 93/100, Loss: 0.038481\n",
            "Epoch 94/100, Loss: 0.038480\n",
            "Epoch 95/100, Loss: 0.038480\n",
            "Epoch 96/100, Loss: 0.038480\n",
            "Epoch 97/100, Loss: 0.038480\n",
            "Epoch 98/100, Loss: 0.038480\n",
            "Epoch 99/100, Loss: 0.038480\n",
            "Epoch 100/100, Loss: 0.038480\n"
          ]
        }
      ]
    },
    {
      "cell_type": "code",
      "source": [
        "plt.plot(losses);"
      ],
      "metadata": {
        "colab": {
          "base_uri": "https://localhost:8080/",
          "height": 265
        },
        "id": "MgGpZ1zepHDi",
        "outputId": "eefeda01-5101-485b-be4c-c4e41b3eebba"
      },
      "execution_count": 22,
      "outputs": [
        {
          "output_type": "display_data",
          "data": {
            "text/plain": [
              "<Figure size 432x288 with 1 Axes>"
            ],
            "image/png": "[encoded data removed]"
          },
          "metadata": {
            "needs_background": "light"
          }
        }
      ]
    },
    {
      "cell_type": "code",
      "source": [
        "type(XX)  , type(YY)"
      ],
      "metadata": {
        "colab": {
          "base_uri": "https://localhost:8080/"
        },
        "id": "hvv5cLvpsAO1",
        "outputId": "f17d74ea-5af9-403d-8acd-25b232f60f8f"
      },
      "execution_count": 23,
      "outputs": [
        {
          "output_type": "execute_result",
          "data": {
            "text/plain": [
              "(numpy.ndarray, numpy.ndarray)"
            ]
          },
          "metadata": {},
          "execution_count": 23
        }
      ]
    },
    {
      "cell_type": "code",
      "source": [
        "predicted = model(inputs).detach().numpy()\n",
        "type(predicted)"
      ],
      "metadata": {
        "colab": {
          "base_uri": "https://localhost:8080/"
        },
        "id": "2QW3lIVRsAV6",
        "outputId": "ea5491d9-c6e8-4ec8-b706-0bb9637f9cff"
      },
      "execution_count": 24,
      "outputs": [
        {
          "output_type": "execute_result",
          "data": {
            "text/plain": [
              "numpy.ndarray"
            ]
          },
          "metadata": {},
          "execution_count": 24
        }
      ]
    },
    {
      "cell_type": "code",
      "source": [
        "# plot the graph\n",
        "predicted = model(inputs).detach().numpy()\n",
        "plt.scatter(XX, YY, label ='Original data')\n",
        "plt.plot(XX, predicted, label = \"fitted line\")\n",
        "plt.legend()\n",
        "plt.show()"
      ],
      "metadata": {
        "colab": {
          "base_uri": "https://localhost:8080/",
          "height": 265
        },
        "id": "TUnIg-aSpHHV",
        "outputId": "42d4f0ff-d33f-4459-d7be-a1fd195c8544"
      },
      "execution_count": 25,
      "outputs": [
        {
          "output_type": "display_data",
          "data": {
            "text/plain": [
              "<Figure size 432x288 with 1 Axes>"
            ],
            "image/png": "[encoded data removed]"
          },
          "metadata": {
            "needs_background": "light"
          }
        }
      ]
    },
    {
      "cell_type": "code",
      "source": [
        "# Weigh of the model\n",
        "w = model.weight.data.numpy()\n",
        "print(w)\n"
      ],
      "metadata": {
        "colab": {
          "base_uri": "https://localhost:8080/"
        },
        "id": "bA_opA7PpHLs",
        "outputId": "5c267974-ee64-47f3-a28d-4b2702b90bd1"
      },
      "execution_count": 26,
      "outputs": [
        {
          "output_type": "stream",
          "name": "stdout",
          "text": [
            "[[0.9803593]]\n"
          ]
        }
      ]
    },
    {
      "cell_type": "code",
      "source": [
        "model.state_dict()"
      ],
      "metadata": {
        "colab": {
          "base_uri": "https://localhost:8080/"
        },
        "id": "GGRduEJbeerR",
        "outputId": "54b258cc-b991-45d0-fc91-a2da082e559c"
      },
      "execution_count": 44,
      "outputs": [
        {
          "output_type": "execute_result",
          "data": {
            "text/plain": [
              "OrderedDict([('weight', tensor([[0.9804]])), ('bias', tensor([-0.0001]))])"
            ]
          },
          "metadata": {},
          "execution_count": 44
        }
      ]
    },
    {
      "cell_type": "markdown",
      "source": [
        "# Classification: breast cancer classification "
      ],
      "metadata": {
        "id": "kQYDiethwUal"
      }
    },
    {
      "cell_type": "code",
      "source": [
        "\n",
        "from sklearn.datasets import load_breast_cancer\n",
        "from sklearn.model_selection import train_test_split\n",
        "from sklearn.preprocessing import StandardScaler\n",
        "\n",
        "# get the data\n",
        "data = load_breast_cancer()\n",
        "X, Y = data.data, data.target\n",
        "print(type(data))\n",
        "print(data.keys())\n",
        "print(data.data.shape)\n",
        "print(data.target[0:5])"
      ],
      "metadata": {
        "colab": {
          "base_uri": "https://localhost:8080/"
        },
        "id": "Ztz6JA-0tCVV",
        "outputId": "ed5a3dba-3723-41fd-a636-ecad2f0499b5"
      },
      "execution_count": 27,
      "outputs": [
        {
          "output_type": "stream",
          "name": "stdout",
          "text": [
            "<class 'sklearn.utils.Bunch'>\n",
            "dict_keys(['data', 'target', 'frame', 'target_names', 'DESCR', 'feature_names', 'filename', 'data_module'])\n",
            "(569, 30)\n",
            "[0 0 0 0 0]\n"
          ]
        }
      ]
    },
    {
      "cell_type": "code",
      "source": [
        "data.target_names"
      ],
      "metadata": {
        "colab": {
          "base_uri": "https://localhost:8080/"
        },
        "id": "Ws8OYopc2VUg",
        "outputId": "575292b2-7cc7-4251-96f1-0c82e83b7f2f"
      },
      "execution_count": 28,
      "outputs": [
        {
          "output_type": "execute_result",
          "data": {
            "text/plain": [
              "array(['malignant', 'benign'], dtype='<U9')"
            ]
          },
          "metadata": {},
          "execution_count": 28
        }
      ]
    },
    {
      "cell_type": "code",
      "source": [
        "data.target.shape"
      ],
      "metadata": {
        "colab": {
          "base_uri": "https://localhost:8080/"
        },
        "id": "i_EHBef12b71",
        "outputId": "d3e4967f-e91e-426f-cca5-bde0569a85b0"
      },
      "execution_count": 29,
      "outputs": [
        {
          "output_type": "execute_result",
          "data": {
            "text/plain": [
              "(569,)"
            ]
          },
          "metadata": {},
          "execution_count": 29
        }
      ]
    },
    {
      "cell_type": "code",
      "source": [
        "data.feature_names"
      ],
      "metadata": {
        "colab": {
          "base_uri": "https://localhost:8080/"
        },
        "id": "Rch4bk6y2iOs",
        "outputId": "0339d695-2a69-44b5-9be8-61e3a4f6af65"
      },
      "execution_count": 30,
      "outputs": [
        {
          "output_type": "execute_result",
          "data": {
            "text/plain": [
              "array(['mean radius', 'mean texture', 'mean perimeter', 'mean area',\n",
              "       'mean smoothness', 'mean compactness', 'mean concavity',\n",
              "       'mean concave points', 'mean symmetry', 'mean fractal dimension',\n",
              "       'radius error', 'texture error', 'perimeter error', 'area error',\n",
              "       'smoothness error', 'compactness error', 'concavity error',\n",
              "       'concave points error', 'symmetry error',\n",
              "       'fractal dimension error', 'worst radius', 'worst texture',\n",
              "       'worst perimeter', 'worst area', 'worst smoothness',\n",
              "       'worst compactness', 'worst concavity', 'worst concave points',\n",
              "       'worst symmetry', 'worst fractal dimension'], dtype='<U23')"
            ]
          },
          "metadata": {},
          "execution_count": 30
        }
      ]
    },
    {
      "cell_type": "code",
      "source": [
        "X_train, X_test, y_train, y_test = train_test_split(data.data, data.target, test_size=0.033)"
      ],
      "metadata": {
        "id": "RrNKLw7A2rYy"
      },
      "execution_count": 31,
      "outputs": []
    },
    {
      "cell_type": "code",
      "source": [
        "N, D = X_train.shape\n",
        "print(X_train.shape)\n",
        "print(N) # columns\n",
        "print(D) # features"
      ],
      "metadata": {
        "colab": {
          "base_uri": "https://localhost:8080/"
        },
        "id": "Jz4SWoKu26Tk",
        "outputId": "af236c69-ec98-404b-81ef-7b91ddca02dd"
      },
      "execution_count": 32,
      "outputs": [
        {
          "output_type": "stream",
          "name": "stdout",
          "text": [
            "(550, 30)\n",
            "550\n",
            "30\n"
          ]
        }
      ]
    },
    {
      "cell_type": "code",
      "source": [
        "scaler = StandardScaler()\n",
        "X_train = scaler.fit_transform(X_train)\n",
        "X_test = scaler.transform(X_test)"
      ],
      "metadata": {
        "id": "JzHbP4E-9h2U"
      },
      "execution_count": 33,
      "outputs": []
    },
    {
      "cell_type": "code",
      "source": [
        "#model_3 = nn.Sequential(nn.Linear(D,1), nn.Sigmoid()) # shape of data is N X D\n",
        "model_3 = nn.Sequential(nn.Linear(D,1), nn.Sigmoid()) # shape of data is N X D\n",
        "criterion = nn.BCELoss()\n",
        "optimizer = torch.optim.Adam(model.parameters())"
      ],
      "metadata": {
        "id": "CQl9ur-63ih7"
      },
      "execution_count": 34,
      "outputs": []
    },
    {
      "cell_type": "code",
      "source": [
        "X_train = torch.from_numpy(X_train.astype(np.float32))\n",
        "X_test  = torch.from_numpy(X_test.astype(np.float32))\n",
        "y_train = torch.from_numpy(y_train.astype(np.float32).reshape(-1,1)) # reshape to 2D array\n",
        "y_test  = torch.from_numpy(y_test.astype(np.float32).reshape(-1,1))"
      ],
      "metadata": {
        "id": "LwMHa0Al1ATO"
      },
      "execution_count": 35,
      "outputs": []
    },
    {
      "cell_type": "code",
      "source": [
        "X_train [0][0:3]"
      ],
      "metadata": {
        "colab": {
          "base_uri": "https://localhost:8080/"
        },
        "id": "SIQR2TdlE_8v",
        "outputId": "9e25be60-0638-43dd-943e-0a4351435472"
      },
      "execution_count": 36,
      "outputs": [
        {
          "output_type": "execute_result",
          "data": {
            "text/plain": [
              "tensor([1.5000, 1.6738, 1.5222])"
            ]
          },
          "metadata": {},
          "execution_count": 36
        }
      ]
    },
    {
      "cell_type": "code",
      "source": [
        "y_train[0:9]"
      ],
      "metadata": {
        "colab": {
          "base_uri": "https://localhost:8080/"
        },
        "id": "kFVizXQmFDbh",
        "outputId": "daf579c5-039d-4ad2-d1d5-b466a59fe251"
      },
      "execution_count": 37,
      "outputs": [
        {
          "output_type": "execute_result",
          "data": {
            "text/plain": [
              "tensor([[0.],\n",
              "        [0.],\n",
              "        [1.],\n",
              "        [1.],\n",
              "        [1.],\n",
              "        [1.],\n",
              "        [0.],\n",
              "        [1.],\n",
              "        [0.]])"
            ]
          },
          "metadata": {},
          "execution_count": 37
        }
      ]
    },
    {
      "cell_type": "code",
      "source": [
        "epochs = 1000\n",
        "#losses = []\n",
        "train_loss = np.zeros(epochs)\n",
        "test_loss = np.zeros(epochs)\n",
        "\n",
        "for it in range(epochs):\n",
        "  # Zero grad \n",
        "  optimizer.zero_grad()\n",
        "  #  # forward pass\n",
        "  outputs = model_3(X_train)\n",
        "  loss = criterion(outputs, y_train)\n",
        "  # keep the loss, so we can plot it later\n",
        "  #losses.append(loss.item())\n",
        "  # backward and optimizer\n",
        "  loss.backward()\n",
        "  optimizer.step()\n",
        "\n",
        "\n",
        "  # get test lost\n",
        "  outputs_test = model_3(X_test)\n",
        "  loss_test = criterion(outputs_test, y_test)\n",
        "  # Save losses\n",
        "  train_loss[it] = loss.item()\n",
        "  test_loss[it] = loss_test.item()\n",
        "\n",
        "  if (it + 1) % 50 == 0:\n",
        "    print(f\"Epoch {it+1}/{epochs}, train Loss: {loss.item():.4f} , test loss : {loss_test.item():.4f}\")"
      ],
      "metadata": {
        "colab": {
          "base_uri": "https://localhost:8080/"
        },
        "id": "RtluwXVqwS-6",
        "outputId": "df1e8a33-abc3-4900-a63b-7ec3c1f42954"
      },
      "execution_count": 38,
      "outputs": [
        {
          "output_type": "stream",
          "name": "stdout",
          "text": [
            "Epoch 50/1000, train Loss: 0.6015 , test loss : 0.6094\n",
            "Epoch 100/1000, train Loss: 0.6015 , test loss : 0.6094\n",
            "Epoch 150/1000, train Loss: 0.6015 , test loss : 0.6094\n",
            "Epoch 200/1000, train Loss: 0.6015 , test loss : 0.6094\n",
            "Epoch 250/1000, train Loss: 0.6015 , test loss : 0.6094\n",
            "Epoch 300/1000, train Loss: 0.6015 , test loss : 0.6094\n",
            "Epoch 350/1000, train Loss: 0.6015 , test loss : 0.6094\n",
            "Epoch 400/1000, train Loss: 0.6015 , test loss : 0.6094\n",
            "Epoch 450/1000, train Loss: 0.6015 , test loss : 0.6094\n",
            "Epoch 500/1000, train Loss: 0.6015 , test loss : 0.6094\n",
            "Epoch 550/1000, train Loss: 0.6015 , test loss : 0.6094\n",
            "Epoch 600/1000, train Loss: 0.6015 , test loss : 0.6094\n",
            "Epoch 650/1000, train Loss: 0.6015 , test loss : 0.6094\n",
            "Epoch 700/1000, train Loss: 0.6015 , test loss : 0.6094\n",
            "Epoch 750/1000, train Loss: 0.6015 , test loss : 0.6094\n",
            "Epoch 800/1000, train Loss: 0.6015 , test loss : 0.6094\n",
            "Epoch 850/1000, train Loss: 0.6015 , test loss : 0.6094\n",
            "Epoch 900/1000, train Loss: 0.6015 , test loss : 0.6094\n",
            "Epoch 950/1000, train Loss: 0.6015 , test loss : 0.6094\n",
            "Epoch 1000/1000, train Loss: 0.6015 , test loss : 0.6094\n"
          ]
        }
      ]
    },
    {
      "cell_type": "code",
      "source": [
        "# plot the train loss and test loss per iteration\n",
        "plt.plot(train_loss, label = \"train loss\")\n",
        "plt.plot(test_loss, label ='test loss')\n",
        "plt.legend()\n",
        "plt.show()"
      ],
      "metadata": {
        "colab": {
          "base_uri": "https://localhost:8080/",
          "height": 265
        },
        "id": "zcyjeMph8HW4",
        "outputId": "50afbf8a-aa1e-497a-b7ff-c4a2844731ea"
      },
      "execution_count": 39,
      "outputs": [
        {
          "output_type": "display_data",
          "data": {
            "text/plain": [
              "<Figure size 432x288 with 1 Axes>"
            ],
            "image/png": "[encoded data removed]"
          },
          "metadata": {
            "needs_background": "light"
          }
        }
      ]
    },
    {
      "cell_type": "code",
      "source": [
        "# evaluating the model\n",
        "with torch.no_grad():\n",
        "  p_train = model_3(X_train)\n",
        "  p_train = np.round(p_train.numpy())\n",
        "  train_acc = np.mean(y_train.numpy() == p_train)\n",
        "\n",
        "  p_test = model_3(X_test)\n",
        "  p_test = np.round(p_test.numpy())\n",
        "  test_acc = np.mean(y_test.numpy() == p_test)\n",
        "\n",
        "print(f\"train acc: {train_acc: .4f}, test acc: {test_acc:.4f}\")\n"
      ],
      "metadata": {
        "colab": {
          "base_uri": "https://localhost:8080/"
        },
        "id": "I6omrkRAwTGy",
        "outputId": "756d3f30-bf62-4a5a-cc6e-39f42c30d56d"
      },
      "execution_count": 40,
      "outputs": [
        {
          "output_type": "stream",
          "name": "stdout",
          "text": [
            "train acc:  0.7145, test acc: 0.8421\n"
          ]
        }
      ]
    },
    {
      "cell_type": "code",
      "source": [
        "# plot the accuracy too\n",
        "#plt.plot(r.history['accuracy'], label = 'acc')\n",
        "#plt.plot(r.history['val_accuracy'], label = 'val_acc')\n",
        "#plt.legend()\n",
        "#plt.show()"
      ],
      "metadata": {
        "id": "m5HDpDGMwTON"
      },
      "execution_count": 53,
      "outputs": []
    },
    {
      "cell_type": "code",
      "source": [
        "# model state dict\n",
        "model_3.state_dict()"
      ],
      "metadata": {
        "colab": {
          "base_uri": "https://localhost:8080/"
        },
        "id": "AY8ygszPwTaP",
        "outputId": "3e758696-677a-4ce1-a7ea-fc95f4a339b4"
      },
      "execution_count": 45,
      "outputs": [
        {
          "output_type": "execute_result",
          "data": {
            "text/plain": [
              "OrderedDict([('0.weight',\n",
              "              tensor([[-0.0417, -0.1096,  0.0575,  0.1527, -0.1755, -0.0583,  0.0883, -0.0019,\n",
              "                        0.1556, -0.1719, -0.0571, -0.1499, -0.0944,  0.1808,  0.1015,  0.0841,\n",
              "                        0.0826, -0.1800,  0.0163, -0.1081,  0.0343, -0.0145,  0.0314, -0.1271,\n",
              "                       -0.0374, -0.0431, -0.0663, -0.1721, -0.1270,  0.0584]])),\n",
              "             ('0.bias', tensor([0.1060]))])"
            ]
          },
          "metadata": {},
          "execution_count": 45
        }
      ]
    },
    {
      "cell_type": "code",
      "source": [
        "# save the model\n",
        "torch.save(model_3.state_dict(), 'mymodel.pt') # in google drive directory"
      ],
      "metadata": {
        "id": "qIntrYjCwTkp"
      },
      "execution_count": 46,
      "outputs": []
    },
    {
      "cell_type": "code",
      "source": [
        "! ls"
      ],
      "metadata": {
        "colab": {
          "base_uri": "https://localhost:8080/"
        },
        "id": "dN-pRliSwTn2",
        "outputId": "7f5b2652-7884-4767-c8cb-f3e1b52f32b7"
      },
      "execution_count": 50,
      "outputs": [
        {
          "output_type": "stream",
          "name": "stdout",
          "text": [
            "moore.csv  mymodel.pt  sample_data\n"
          ]
        }
      ]
    },
    {
      "cell_type": "code",
      "source": [
        "#load model_3\n",
        "model_load = nn.Sequential(nn.Linear(D,1), nn.Sigmoid())\n",
        "model_load.load_state_dict(torch.load('mymodel.pt'))"
      ],
      "metadata": {
        "colab": {
          "base_uri": "https://localhost:8080/"
        },
        "id": "q43e5CVIwTsD",
        "outputId": "88cdadaf-957d-4b25-d918-b6720a9056aa"
      },
      "execution_count": 48,
      "outputs": [
        {
          "output_type": "execute_result",
          "data": {
            "text/plain": [
              "<All keys matched successfully>"
            ]
          },
          "metadata": {},
          "execution_count": 48
        }
      ]
    },
    {
      "cell_type": "code",
      "source": [
        "# evaluate de new model\n",
        "with torch.no_grad():\n",
        "  p_train = model_load(X_train)\n",
        "  p_train = np.round(p_train.numpy())\n",
        "  train_acc = np.mean(y_train.numpy() == p_train)\n",
        "\n",
        "  p_test = model_3(X_test)\n",
        "  p_test = np.round(p_test.numpy())\n",
        "  test_acc = np.mean(y_test.numpy() == p_test)\n",
        "\n",
        "print(f\"train acc: {train_acc: .4f}, test acc: {test_acc:.4f}\")"
      ],
      "metadata": {
        "colab": {
          "base_uri": "https://localhost:8080/"
        },
        "id": "ij0oFPWWwTwb",
        "outputId": "68f8ef8c-da3a-4ea4-bbf4-eeb689b4f2d9"
      },
      "execution_count": 49,
      "outputs": [
        {
          "output_type": "stream",
          "name": "stdout",
          "text": [
            "train acc:  0.7145, test acc: 0.8421\n"
          ]
        }
      ]
    },
    {
      "cell_type": "code",
      "source": [
        "# Download the model\n",
        "from google.colab import files\n",
        "#files.download('mymodel.pt') # here to download localy and share"
      ],
      "metadata": {
        "colab": {
          "base_uri": "https://localhost:8080/",
          "height": 17
        },
        "id": "oaPmHBosgVB6",
        "outputId": "7e2b9667-edfd-479d-de80-406e41fe8021"
      },
      "execution_count": 52,
      "outputs": [
        {
          "output_type": "display_data",
          "data": {
            "text/plain": [
              "<IPython.core.display.Javascript object>"
            ],
            "application/javascript": [
              "\n",
              "    async function download(id, filename, size) {\n",
              "      if (!google.colab.kernel.accessAllowed) {\n",
              "        return;\n",
              "      }\n",
              "      const div = document.createElement('div');\n",
              "      const label = document.createElement('label');\n",
              "      label.textContent = `Downloading \"${filename}\": `;\n",
              "      div.appendChild(label);\n",
              "      const progress = document.createElement('progress');\n",
              "      progress.max = size;\n",
              "      div.appendChild(progress);\n",
              "      document.body.appendChild(div);\n",
              "\n",
              "      const buffers = [];\n",
              "      let downloaded = 0;\n",
              "\n",
              "      const channel = await google.colab.kernel.comms.open(id);\n",
              "      // Send a message to notify the kernel that we're ready.\n",
              "      channel.send({})\n",
              "\n",
              "      for await (const message of channel.messages) {\n",
              "        // Send a message to notify the kernel that we're ready.\n",
              "        channel.send({})\n",
              "        if (message.buffers) {\n",
              "          for (const buffer of message.buffers) {\n",
              "            buffers.push(buffer);\n",
              "            downloaded += buffer.byteLength;\n",
              "            progress.value = downloaded;\n",
              "          }\n",
              "        }\n",
              "      }\n",
              "      const blob = new Blob(buffers, {type: 'application/binary'});\n",
              "      const a = document.createElement('a');\n",
              "      a.href = window.URL.createObjectURL(blob);\n",
              "      a.download = filename;\n",
              "      div.appendChild(a);\n",
              "      a.click();\n",
              "      div.remove();\n",
              "    }\n",
              "  "
            ]
          },
          "metadata": {}
        },
        {
          "output_type": "display_data",
          "data": {
            "text/plain": [
              "<IPython.core.display.Javascript object>"
            ],
            "application/javascript": [
              "download(\"download_208252fa-8a81-42ae-b1bd-f43fa6185f6f\", \"mymodel.pt\", 1191)"
            ]
          },
          "metadata": {}
        }
      ]
    },
    {
      "cell_type": "markdown",
      "source": [
        "### Linear Classification (with logits)BCE Loss With Logits "
      ],
      "metadata": {
        "id": "uelISX7EiZBi"
      }
    },
    {
      "cell_type": "code",
      "source": [],
      "metadata": {
        "id": "jC7_dXD9gVMO"
      },
      "execution_count": null,
      "outputs": []
    },
    {
      "cell_type": "code",
      "source": [
        "#model_3 = nn.Sequential(nn.Linear(D,1), nn.Sigmoid()) # shape of data is N X D\n",
        "model_4 = nn.Linear(D,1) # ,nn.Sigmoid()) # shape of data is N X D\n",
        "criterion = nn.BCEWithLogitsLoss()\n",
        "optimizer = torch.optim.Adam(model.parameters())"
      ],
      "metadata": {
        "id": "rFeuNcD8gVQk"
      },
      "execution_count": 57,
      "outputs": []
    },
    {
      "cell_type": "code",
      "source": [
        "epochs = 1000\n",
        "#losses = []\n",
        "train_loss = np.zeros(epochs)\n",
        "test_loss = np.zeros(epochs)\n",
        "\n",
        "for it in range(epochs):\n",
        "  # Zero grad \n",
        "  optimizer.zero_grad()\n",
        "  #  # forward pass\n",
        "  outputs = model_4(X_train)\n",
        "  loss = criterion(outputs, y_train)\n",
        "  # keep the loss, so we can plot it later\n",
        "  #losses.append(loss.item())\n",
        "  # backward and optimizer\n",
        "  loss.backward()\n",
        "  optimizer.step()\n",
        "\n",
        "\n",
        "  # get test lost\n",
        "  outputs_test = model_4(X_test)\n",
        "  loss_test = criterion(outputs_test, y_test)\n",
        "  # Save losses\n",
        "  train_loss[it] = loss.item()\n",
        "  test_loss[it] = loss_test.item()\n",
        "\n",
        "  if (it + 1) % 50 == 0:\n",
        "    print(f\"Epoch {it+1}/{epochs}, train Loss: {loss.item():.4f} , test loss : {loss_test.item():.4f}\")"
      ],
      "metadata": {
        "colab": {
          "base_uri": "https://localhost:8080/"
        },
        "id": "wNcKWK7WgVU2",
        "outputId": "d8778227-ec26-4534-e82c-3ee4eb83c846"
      },
      "execution_count": 58,
      "outputs": [
        {
          "output_type": "stream",
          "name": "stdout",
          "text": [
            "Epoch 50/1000, train Loss: 0.7473 , test loss : 0.7244\n",
            "Epoch 100/1000, train Loss: 0.7473 , test loss : 0.7244\n",
            "Epoch 150/1000, train Loss: 0.7473 , test loss : 0.7244\n",
            "Epoch 200/1000, train Loss: 0.7473 , test loss : 0.7244\n",
            "Epoch 250/1000, train Loss: 0.7473 , test loss : 0.7244\n",
            "Epoch 300/1000, train Loss: 0.7473 , test loss : 0.7244\n",
            "Epoch 350/1000, train Loss: 0.7473 , test loss : 0.7244\n",
            "Epoch 400/1000, train Loss: 0.7473 , test loss : 0.7244\n",
            "Epoch 450/1000, train Loss: 0.7473 , test loss : 0.7244\n",
            "Epoch 500/1000, train Loss: 0.7473 , test loss : 0.7244\n",
            "Epoch 550/1000, train Loss: 0.7473 , test loss : 0.7244\n",
            "Epoch 600/1000, train Loss: 0.7473 , test loss : 0.7244\n",
            "Epoch 650/1000, train Loss: 0.7473 , test loss : 0.7244\n",
            "Epoch 700/1000, train Loss: 0.7473 , test loss : 0.7244\n",
            "Epoch 750/1000, train Loss: 0.7473 , test loss : 0.7244\n",
            "Epoch 800/1000, train Loss: 0.7473 , test loss : 0.7244\n",
            "Epoch 850/1000, train Loss: 0.7473 , test loss : 0.7244\n",
            "Epoch 900/1000, train Loss: 0.7473 , test loss : 0.7244\n",
            "Epoch 950/1000, train Loss: 0.7473 , test loss : 0.7244\n",
            "Epoch 1000/1000, train Loss: 0.7473 , test loss : 0.7244\n"
          ]
        }
      ]
    },
    {
      "cell_type": "code",
      "source": [
        "# plot the train loss and test loss per iteration\n",
        "plt.plot(train_loss, label = \"train loss\")\n",
        "plt.plot(test_loss, label ='test loss')\n",
        "plt.legend()\n",
        "plt.show()"
      ],
      "metadata": {
        "colab": {
          "base_uri": "https://localhost:8080/",
          "height": 265
        },
        "id": "XaK6i5AcjPhG",
        "outputId": "c6493d0c-88eb-46f9-abc9-7d00a6df3935"
      },
      "execution_count": 59,
      "outputs": [
        {
          "output_type": "display_data",
          "data": {
            "text/plain": [
              "<Figure size 432x288 with 1 Axes>"
            ],
            "image/png": "[encoded data removed]"
          },
          "metadata": {
            "needs_background": "light"
          }
        }
      ]
    },
    {
      "cell_type": "code",
      "source": [
        "# evaluating the model\n",
        "with torch.no_grad():\n",
        "  p_train = model_4(X_train)\n",
        "  p_train = (p_train.numpy() > 0)\n",
        "  train_acc = np.mean(y_train.numpy() == p_train)\n",
        "\n",
        "  p_test = model_4(X_test)\n",
        "  p_test = (p_test.numpy()> 0)\n",
        "  test_acc = np.mean(y_test.numpy() == p_test)\n",
        "\n",
        "print(f\"train acc: {train_acc: .4f}, test acc: {test_acc:.4f}\")"
      ],
      "metadata": {
        "colab": {
          "base_uri": "https://localhost:8080/"
        },
        "id": "VcRPUJqMjPlz",
        "outputId": "95893008-8fbb-49f4-892d-33b42c517d7d"
      },
      "execution_count": 61,
      "outputs": [
        {
          "output_type": "stream",
          "name": "stdout",
          "text": [
            "train acc:  0.4000, test acc: 0.4737\n"
          ]
        }
      ]
    },
    {
      "cell_type": "code",
      "source": [],
      "metadata": {
        "id": "cOvBO5qOjPpY"
      },
      "execution_count": null,
      "outputs": []
    }
  ]
}